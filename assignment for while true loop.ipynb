{
 "cells": [
  {
   "cell_type": "markdown",
   "id": "d5822d2c",
   "metadata": {},
   "source": [
    "# Question 1: Counting Odd Numbers Write a program that continuously takes input from the user until they enter a negative number. The program should then print the count of all the odd numbers entered.\n",
    "count of all the odd number entered."
   ]
  },
  {
   "cell_type": "code",
   "execution_count": null,
   "id": "63e095f2",
   "metadata": {},
   "outputs": [
    {
     "name": "stdout",
     "output_type": "stream",
     "text": [
      "77\n",
      "00\n",
      "99\n",
      "88\n",
      "66\n",
      "44\n",
      "33\n",
      "22\n"
     ]
    }
   ],
   "source": [
    "count=0\n",
    "while True:\n",
    "    value=int(input())\n",
    "    if value>=0:\n",
    "        if value%2!=0:\n",
    "            count+=1\n",
    "    else:\n",
    "        break"
   ]
  },
  {
   "cell_type": "markdown",
   "id": "bc4cb148",
   "metadata": {},
   "source": [
    "# Question 2: Guessing Game Create a guessing game where the computer generates a random number between 1 and 100, and the player has to guess it. The game should provide feedback on whether the guess is too high or too low, and it should continue until the player guesses the correct number."
   ]
  },
  {
   "cell_type": "code",
   "execution_count": null,
   "id": "4fa1d4bc",
   "metadata": {},
   "outputs": [
    {
     "name": "stdout",
     "output_type": "stream",
     "text": [
      "Guess any number: 10\n",
      "Try high\n",
      "Guess any number: 23\n",
      "Try high\n",
      "Guess any number: 45\n",
      "Try low\n",
      "Guess any number: 00\n",
      "Try high\n",
      "Guess any number: 788\n",
      "Try low\n",
      "Guess any number: 65\n",
      "Try low\n"
     ]
    }
   ],
   "source": [
    "import random\n",
    "random_number=random.randint(1,100)\n",
    "\n",
    "while True:\n",
    "    guess_number= int(input(\"Guess any number: \"))\n",
    "    if guess_number==random_number:\n",
    "        print(\"Congratulate you have guessed correct number\")\n",
    "    elif guess_number>random_number:\n",
    "        print(\"Try low\")\n",
    "    else:\n",
    "        print(\"Try high\")"
   ]
  },
  {
   "cell_type": "code",
   "execution_count": null,
   "id": "018468e2",
   "metadata": {},
   "outputs": [],
   "source": []
  }
 ],
 "metadata": {
  "kernelspec": {
   "display_name": "Python 3 (ipykernel)",
   "language": "python",
   "name": "python3"
  },
  "language_info": {
   "codemirror_mode": {
    "name": "ipython",
    "version": 3
   },
   "file_extension": ".py",
   "mimetype": "text/x-python",
   "name": "python",
   "nbconvert_exporter": "python",
   "pygments_lexer": "ipython3",
   "version": "3.11.5"
  }
 },
 "nbformat": 4,
 "nbformat_minor": 5
}
